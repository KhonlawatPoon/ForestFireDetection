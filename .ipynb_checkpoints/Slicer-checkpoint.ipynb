{
 "cells": [
  {
   "cell_type": "code",
   "execution_count": 1,
   "id": "traditional-contrast",
   "metadata": {},
   "outputs": [
    {
     "ename": "ModuleNotFoundError",
     "evalue": "No module named 'image_slicer'",
     "output_type": "error",
     "traceback": [
      "\u001b[1;31m---------------------------------------------------------------------------\u001b[0m",
      "\u001b[1;31mModuleNotFoundError\u001b[0m                       Traceback (most recent call last)",
      "\u001b[1;32m<ipython-input-1-61fb822f664a>\u001b[0m in \u001b[0;36m<module>\u001b[1;34m\u001b[0m\n\u001b[1;32m----> 1\u001b[1;33m \u001b[1;32mfrom\u001b[0m \u001b[0mimage_slicer\u001b[0m \u001b[1;32mimport\u001b[0m \u001b[0mslice\u001b[0m\u001b[1;33m\u001b[0m\u001b[1;33m\u001b[0m\u001b[0m\n\u001b[0m\u001b[0;32m      2\u001b[0m \u001b[1;32mimport\u001b[0m \u001b[0mos\u001b[0m\u001b[1;33m\u001b[0m\u001b[1;33m\u001b[0m\u001b[0m\n",
      "\u001b[1;31mModuleNotFoundError\u001b[0m: No module named 'image_slicer'"
     ]
    }
   ],
   "source": [
    "from image_slicer import slice\n",
    "import os"
   ]
  },
  {
   "cell_type": "code",
   "execution_count": 2,
   "id": "attended-cinema",
   "metadata": {},
   "outputs": [],
   "source": [
    "#slice('DJI_0002.JPG',4)"
   ]
  },
  {
   "cell_type": "code",
   "execution_count": 2,
   "id": "quiet-utility",
   "metadata": {},
   "outputs": [
    {
     "name": "stdout",
     "output_type": "stream",
     "text": [
      "['DJI_0128_106.jpg_resized.jpg', 'DJI_0128_113.jpg_resized.jpg', 'DJI_0128_120.jpg_resized.jpg', 'DJI_0128_127.jpg_resized.jpg', 'DJI_0128_134.jpg_resized.jpg', 'DJI_0128_141.jpg_resized.jpg', 'DJI_0128_148.jpg_resized.jpg', 'DJI_0128_15.jpg_resized.jpg', 'DJI_0128_155.jpg_resized.jpg', 'DJI_0128_162.jpg_resized.jpg', 'DJI_0128_169.jpg_resized.jpg', 'DJI_0128_176.jpg_resized.jpg', 'DJI_0128_183.jpg_resized.jpg', 'DJI_0128_1_resized.jpg', 'DJI_0128_22.jpg_resized.jpg', 'DJI_0128_29.jpg_resized.jpg', 'DJI_0128_36.jpg_resized.jpg', 'DJI_0128_43.jpg_resized.jpg', 'DJI_0128_50.jpg_resized.jpg', 'DJI_0128_57.jpg_resized.jpg', 'DJI_0128_64.jpg_resized.jpg', 'DJI_0128_71.jpg_resized.jpg', 'DJI_0128_78.jpg_resized.jpg', 'DJI_0128_8.jpg_resized.jpg', 'DJI_0128_85.jpg_resized.jpg', 'DJI_0128_92.jpg_resized.jpg', 'DJI_0128_99.jpg_resized.jpg', 'DJI_0131_105.jpg_resized.jpg', 'DJI_0131_112.jpg_resized.jpg', 'DJI_0131_119.jpg_resized.jpg', 'DJI_0131_126.jpg_resized.jpg', 'DJI_0131_133.jpg_resized.jpg', 'DJI_0131_140.jpg_resized.jpg', 'DJI_0131_147.jpg_resized.jpg', 'DJI_0131_154.jpg_resized.jpg', 'DJI_0131_161.jpg_resized.jpg', 'DJI_0131_168.jpg_resized.jpg', 'DJI_0131_175.jpg_resized.jpg', 'DJI_0131_182.jpg_resized.jpg', 'DJI_0131_189.jpg_resized.jpg', 'DJI_0131_196.jpg_resized.jpg', 'DJI_0131_203.jpg_resized.jpg', 'DJI_0131_210.jpg_resized.jpg', 'DJI_0131_217.jpg_resized.jpg', 'DJI_0131_224.jpg_resized.jpg', 'DJI_0131_231.jpg_resized.jpg', 'DJI_0131_238.jpg_resized.jpg', 'DJI_0131_245.jpg_resized.jpg', 'DJI_0131_252.jpg_resized.jpg', 'DJI_0131_259.jpg_resized.jpg', 'DJI_0131_266.jpg_resized.jpg', 'DJI_0131_273.jpg_resized.jpg', 'DJI_0131_280.jpg_resized.jpg', 'DJI_0131_287.jpg_resized.jpg', 'DJI_0131_63.jpg_resized.jpg', 'DJI_0131_70.jpg_resized.jpg', 'DJI_0131_77.jpg_resized.jpg', 'DJI_0131_84.jpg_resized.jpg', 'DJI_0131_91.jpg_resized.jpg', 'DJI_0131_98.jpg_resized.jpg', 'DJI_0132_10.jpg_resized.jpg', 'DJI_0132_103.jpg_resized.jpg', 'DJI_0132_111.jpg_resized.jpg', 'DJI_0132_118.jpg_resized.jpg', 'DJI_0132_125.jpg_resized.jpg', 'DJI_0132_133.jpg_resized.jpg', 'DJI_0132_153.jpg_resized.jpg', 'DJI_0132_160.jpg_resized.jpg', 'DJI_0132_167.jpg_resized.jpg', 'DJI_0132_17.jpg_resized.jpg', 'DJI_0132_174.jpg_resized.jpg', 'DJI_0132_181.jpg_resized.jpg', 'DJI_0132_188.jpg_resized.jpg', 'DJI_0132_195.jpg_resized.jpg', 'DJI_0132_202.jpg_resized.jpg', 'DJI_0132_209.jpg_resized.jpg', 'DJI_0132_216.jpg_resized.jpg', 'DJI_0132_223.jpg_resized.jpg', 'DJI_0132_230.jpg_resized.jpg', 'DJI_0132_237.jpg_resized.jpg', 'DJI_0132_24.jpg_resized.jpg', 'DJI_0132_244.jpg_resized.jpg', 'DJI_0132_3.jpg_resized.jpg', 'DJI_0132_31.jpg_resized.jpg', 'DJI_0132_38.jpg_resized.jpg', 'DJI_0132_45.jpg_resized.jpg', 'DJI_0132_52.jpg_resized.jpg', 'DJI_0132_59.jpg_resized.jpg', 'DJI_0132_66.jpg_resized.jpg', 'DJI_0132_73.jpg_resized.jpg', 'DJI_0132_80.jpg_resized.jpg', 'DJI_0132_87.jpg_resized.jpg', 'DJI_0132_94.jpg_resized.jpg', 'DJI_0133_102.jpg_resized.jpg', 'DJI_0133_109.jpg_resized.jpg', 'DJI_0133_11.jpg_resized.jpg', 'DJI_0133_116.jpg_resized.jpg', 'DJI_0133_123.jpg_resized.jpg', 'DJI_0133_130.jpg_resized.jpg', 'DJI_0133_137.jpg_resized.jpg', 'DJI_0133_144.jpg_resized.jpg', 'DJI_0133_151.jpg_resized.jpg', 'DJI_0133_158.jpg_resized.jpg', 'DJI_0133_165.jpg_resized.jpg', 'DJI_0133_172.jpg_resized.jpg', 'DJI_0133_179.jpg_resized.jpg', 'DJI_0133_18.jpg_resized.jpg', 'DJI_0133_186.jpg_resized.jpg', 'DJI_0133_193.jpg_resized.jpg', 'DJI_0133_200.jpg_resized.jpg', 'DJI_0133_207.jpg_resized.jpg', 'DJI_0133_214.jpg_resized.jpg', 'DJI_0133_221.jpg_resized.jpg', 'DJI_0133_228.jpg_resized.jpg', 'DJI_0133_235.jpg_resized.jpg', 'DJI_0133_242.jpg_resized.jpg', 'DJI_0133_249.jpg_resized.jpg', 'DJI_0133_25.jpg_resized.jpg', 'DJI_0133_256.jpg_resized.jpg', 'DJI_0133_263.jpg_resized.jpg', 'DJI_0133_270.jpg_resized.jpg', 'DJI_0133_277.jpg_resized.jpg', 'DJI_0133_32.jpg_resized.jpg', 'DJI_0133_39.jpg_resized.jpg', 'DJI_0133_4.jpg_resized.jpg', 'DJI_0133_46.jpg_resized.jpg', 'DJI_0133_53.jpg_resized.jpg', 'DJI_0133_60.jpg_resized.jpg', 'DJI_0133_67.jpg_resized.jpg', 'DJI_0133_74.jpg_resized.jpg', 'DJI_0133_81.jpg_resized.jpg', 'DJI_0133_88.jpg_resized.jpg', 'DJI_0133_95.jpg_resized.jpg', 'DJI_0138_1.jpg_resized.jpg', 'DJI_0138_106.jpg_resized.jpg', 'DJI_0138_113.jpg_resized.jpg', 'DJI_0138_120.jpg_resized.jpg', 'DJI_0138_127.jpg_resized.jpg', 'DJI_0138_134.jpg_resized.jpg', 'DJI_0138_141.jpg_resized.jpg', 'DJI_0138_148.jpg_resized.jpg', 'DJI_0138_15.jpg_resized.jpg', 'DJI_0138_155.jpg_resized.jpg', 'DJI_0138_162.jpg_resized.jpg', 'DJI_0138_169.jpg_resized.jpg', 'DJI_0138_176.jpg_resized.jpg', 'DJI_0138_183.jpg_resized.jpg', 'DJI_0138_190.jpg_resized.jpg', 'DJI_0138_197.jpg_resized.jpg', 'DJI_0138_204.jpg_resized.jpg', 'DJI_0138_211.jpg_resized.jpg', 'DJI_0138_218.jpg_resized.jpg', 'DJI_0138_22.jpg_resized.jpg', 'DJI_0138_225.jpg_resized.jpg', 'DJI_0138_232.jpg_resized.jpg', 'DJI_0138_239.jpg_resized.jpg', 'DJI_0138_246.jpg_resized.jpg', 'DJI_0138_253.jpg_resized.jpg', 'DJI_0138_29.jpg_resized.jpg', 'DJI_0138_36.jpg_resized.jpg', 'DJI_0138_43.jpg_resized.jpg', 'DJI_0138_50.jpg_resized.jpg', 'DJI_0138_57.jpg_resized.jpg', 'DJI_0138_64.jpg_resized.jpg', 'DJI_0138_71.jpg_resized.jpg', 'DJI_0138_78.jpg_resized.jpg', 'DJI_0138_8.jpg_resized.jpg', 'DJI_0138_85.jpg_resized.jpg', 'DJI_0138_92.jpg_resized.jpg', 'DJI_0138_99.jpg_resized.jpg']\n"
     ]
    }
   ],
   "source": [
    "# Read File Names \n",
    "from os import listdir\n",
    "from os.path import isfile, join\n",
    "read_files = [f for f in listdir(\"Dataset\") if isfile(join(\"Dataset\", f))]\n",
    "print(read_files)"
   ]
  },
  {
   "cell_type": "code",
   "execution_count": 16,
   "id": "capital-pittsburgh",
   "metadata": {},
   "outputs": [
    {
     "ename": "UnidentifiedImageError",
     "evalue": "cannot identify image file 'Untitled.ipynb'",
     "output_type": "error",
     "traceback": [
      "\u001b[1;31m---------------------------------------------------------------------------\u001b[0m",
      "\u001b[1;31mUnidentifiedImageError\u001b[0m                    Traceback (most recent call last)",
      "\u001b[1;32m<ipython-input-16-b1ae06525db2>\u001b[0m in \u001b[0;36m<module>\u001b[1;34m\u001b[0m\n\u001b[0;32m      1\u001b[0m \u001b[0mos\u001b[0m\u001b[1;33m.\u001b[0m\u001b[0mchdir\u001b[0m\u001b[1;33m(\u001b[0m\u001b[1;34mr\"C:\\Users\\USER\\Desktop\\Psorn_MavicAir2\\DCIM\\100MEDIA\\Dataset\"\u001b[0m\u001b[1;33m)\u001b[0m\u001b[1;33m\u001b[0m\u001b[1;33m\u001b[0m\u001b[0m\n\u001b[0;32m      2\u001b[0m \u001b[1;32mfor\u001b[0m \u001b[0mf\u001b[0m \u001b[1;32min\u001b[0m \u001b[0mread_files\u001b[0m\u001b[1;33m:\u001b[0m\u001b[1;33m\u001b[0m\u001b[1;33m\u001b[0m\u001b[0m\n\u001b[1;32m----> 3\u001b[1;33m     \u001b[0mslice\u001b[0m\u001b[1;33m(\u001b[0m\u001b[0mf\u001b[0m\u001b[1;33m,\u001b[0m\u001b[1;36m4\u001b[0m\u001b[1;33m)\u001b[0m\u001b[1;33m\u001b[0m\u001b[1;33m\u001b[0m\u001b[0m\n\u001b[0m",
      "\u001b[1;32mc:\\users\\user\\appdata\\local\\programs\\python\\python38\\lib\\site-packages\\image_slicer\\main.py\u001b[0m in \u001b[0;36mslice\u001b[1;34m(filename, number_tiles, col, row, save, DecompressionBombWarning)\u001b[0m\n\u001b[0;32m    168\u001b[0m         \u001b[0mImage\u001b[0m\u001b[1;33m.\u001b[0m\u001b[0mMAX_IMAGE_PIXELS\u001b[0m \u001b[1;33m=\u001b[0m \u001b[1;32mNone\u001b[0m\u001b[1;33m\u001b[0m\u001b[1;33m\u001b[0m\u001b[0m\n\u001b[0;32m    169\u001b[0m \u001b[1;33m\u001b[0m\u001b[0m\n\u001b[1;32m--> 170\u001b[1;33m     \u001b[0mim\u001b[0m \u001b[1;33m=\u001b[0m \u001b[0mImage\u001b[0m\u001b[1;33m.\u001b[0m\u001b[0mopen\u001b[0m\u001b[1;33m(\u001b[0m\u001b[0mfilename\u001b[0m\u001b[1;33m)\u001b[0m\u001b[1;33m\u001b[0m\u001b[1;33m\u001b[0m\u001b[0m\n\u001b[0m\u001b[0;32m    171\u001b[0m     \u001b[0mim_w\u001b[0m\u001b[1;33m,\u001b[0m \u001b[0mim_h\u001b[0m \u001b[1;33m=\u001b[0m \u001b[0mim\u001b[0m\u001b[1;33m.\u001b[0m\u001b[0msize\u001b[0m\u001b[1;33m\u001b[0m\u001b[1;33m\u001b[0m\u001b[0m\n\u001b[0;32m    172\u001b[0m \u001b[1;33m\u001b[0m\u001b[0m\n",
      "\u001b[1;32mc:\\users\\user\\appdata\\local\\programs\\python\\python38\\lib\\site-packages\\PIL\\Image.py\u001b[0m in \u001b[0;36mopen\u001b[1;34m(fp, mode)\u001b[0m\n\u001b[0;32m   2928\u001b[0m     \u001b[1;32mfor\u001b[0m \u001b[0mmessage\u001b[0m \u001b[1;32min\u001b[0m \u001b[0maccept_warnings\u001b[0m\u001b[1;33m:\u001b[0m\u001b[1;33m\u001b[0m\u001b[1;33m\u001b[0m\u001b[0m\n\u001b[0;32m   2929\u001b[0m         \u001b[0mwarnings\u001b[0m\u001b[1;33m.\u001b[0m\u001b[0mwarn\u001b[0m\u001b[1;33m(\u001b[0m\u001b[0mmessage\u001b[0m\u001b[1;33m)\u001b[0m\u001b[1;33m\u001b[0m\u001b[1;33m\u001b[0m\u001b[0m\n\u001b[1;32m-> 2930\u001b[1;33m     raise UnidentifiedImageError(\n\u001b[0m\u001b[0;32m   2931\u001b[0m         \u001b[1;34m\"cannot identify image file %r\"\u001b[0m \u001b[1;33m%\u001b[0m \u001b[1;33m(\u001b[0m\u001b[0mfilename\u001b[0m \u001b[1;32mif\u001b[0m \u001b[0mfilename\u001b[0m \u001b[1;32melse\u001b[0m \u001b[0mfp\u001b[0m\u001b[1;33m)\u001b[0m\u001b[1;33m\u001b[0m\u001b[1;33m\u001b[0m\u001b[0m\n\u001b[0;32m   2932\u001b[0m     )\n",
      "\u001b[1;31mUnidentifiedImageError\u001b[0m: cannot identify image file 'Untitled.ipynb'"
     ]
    }
   ],
   "source": [
    "os.chdir(r\"C:\\Users\\USER\\Desktop\\Psorn_MavicAir2\\DCIM\\100MEDIA\\Dataset\")\n",
    "for f in read_files:\n",
    "    slice(f,4)"
   ]
  },
  {
   "cell_type": "code",
   "execution_count": null,
   "id": "distant-might",
   "metadata": {},
   "outputs": [],
   "source": []
  }
 ],
 "metadata": {
  "kernelspec": {
   "display_name": "Python 3",
   "language": "python",
   "name": "python3"
  },
  "language_info": {
   "codemirror_mode": {
    "name": "ipython",
    "version": 3
   },
   "file_extension": ".py",
   "mimetype": "text/x-python",
   "name": "python",
   "nbconvert_exporter": "python",
   "pygments_lexer": "ipython3",
   "version": "3.9.1"
  }
 },
 "nbformat": 4,
 "nbformat_minor": 5
}
